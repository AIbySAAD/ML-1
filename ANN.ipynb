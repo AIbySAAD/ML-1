{
  "nbformat": 4,
  "nbformat_minor": 0,
  "metadata": {
    "colab": {
      "provenance": []
    },
    "kernelspec": {
      "name": "python3",
      "display_name": "Python 3"
    },
    "language_info": {
      "name": "python"
    }
  },
  "cells": [
    {
      "cell_type": "code",
      "execution_count": 4,
      "metadata": {
        "colab": {
          "base_uri": "https://localhost:8080/"
        },
        "id": "EGdrVXkmCwSg",
        "outputId": "c39d72cb-b074-468c-d6ff-9ea19629ee6f"
      },
      "outputs": [
        {
          "output_type": "execute_result",
          "data": {
            "text/plain": [
              "1"
            ]
          },
          "metadata": {},
          "execution_count": 4
        }
      ],
      "source": [
        "# A single perceptron:\n",
        "\n",
        "inputs=[20,30,40,50]\n",
        "weights=[0.6,0.7,0.8,0.9]\n",
        "def sum(a,b):\n",
        "  s=0\n",
        "  for i in range(len(a)):\n",
        "    s+=a[i]*b[i]\n",
        "  if s>100:\n",
        "    return 1\n",
        "  else:\n",
        "    return 0\n",
        "sum(inputs,weights)"
      ]
    },
    {
      "cell_type": "code",
      "source": [
        "# using numpy\n",
        "\n",
        "import numpy as np\n",
        "\n",
        "inputs=[20,30,40,50]\n",
        "weights=[0.6,0.7,0.8,0.9]\n",
        "a=np.dot(inputs,weights)\n",
        "if a>100:\n",
        "  print(1)\n",
        "else:\n",
        "  print(0)"
      ],
      "metadata": {
        "colab": {
          "base_uri": "https://localhost:8080/"
        },
        "id": "-_PfscNvDbMv",
        "outputId": "ab3682d9-3ba9-439b-b56f-a867c001350d"
      },
      "execution_count": 6,
      "outputs": [
        {
          "output_type": "stream",
          "name": "stdout",
          "text": [
            "1\n"
          ]
        }
      ]
    },
    {
      "cell_type": "markdown",
      "source": [
        "Error=correct-prediction"
      ],
      "metadata": {
        "id": "rvftGwl3Etbw"
      }
    },
    {
      "cell_type": "markdown",
      "source": [
        "Weight update:\n",
        ">\n",
        "weight(n+1)=weight(n)+(learning rate x input x error)"
      ],
      "metadata": {
        "id": "4rN-xLc5E1Zb"
      }
    },
    {
      "cell_type": "markdown",
      "source": [
        "The process of updating the weight is epoch\n",
        ">\n",
        "the epoch means that the number of steps a neural network will take place in order to reduce the error."
      ],
      "metadata": {
        "id": "yfCPclVbFRvU"
      }
    },
    {
      "cell_type": "markdown",
      "source": [
        "simple neural network implementation on an AND gate:"
      ],
      "metadata": {
        "id": "j9msjJp5JZ2T"
      }
    },
    {
      "cell_type": "code",
      "source": [
        "import numpy as np\n",
        "inputs=np.array([[0,0],[0,1],[1,0],[1,1]])\n",
        "outputs=np.array([0,0,0,1])\n",
        "weights=np.array([0.0,0.0])\n",
        "learning_rate=0.1\n",
        "\n",
        "def check(s):\n",
        "    if (s>=1):\n",
        "        return 1\n",
        "    return 0\n",
        "def calculate(value):\n",
        "    s=value.dot(weights)\n",
        "    return check(s)\n",
        "\n",
        "total_error=1\n",
        "while(total_error !=0):\n",
        "    total_error=0\n",
        "    for i in range(len(inputs)):\n",
        "        predict=calculate(inputs[i])\n",
        "        error=outputs[i]-predict\n",
        "        total_error += error\n",
        "        if (error>0):\n",
        "            for j in range(len(weights)):\n",
        "                weights[j]=weights[j]+(learning_rate*inputs[i][j]*error)\n",
        "                print(\"weight updated: \"+ str(weights[j]))\n",
        "    print(\"total error: \"+ str(total_error))\n"
      ],
      "metadata": {
        "colab": {
          "base_uri": "https://localhost:8080/"
        },
        "id": "AJE9wELaJISr",
        "outputId": "d1b5266f-ea29-42b8-bb4b-de7025283656"
      },
      "execution_count": 7,
      "outputs": [
        {
          "output_type": "stream",
          "name": "stdout",
          "text": [
            "weight updated: 0.1\n",
            "weight updated: 0.1\n",
            "total error: 1\n",
            "weight updated: 0.2\n",
            "weight updated: 0.2\n",
            "total error: 1\n",
            "weight updated: 0.30000000000000004\n",
            "weight updated: 0.30000000000000004\n",
            "total error: 1\n",
            "weight updated: 0.4\n",
            "weight updated: 0.4\n",
            "total error: 1\n",
            "weight updated: 0.5\n",
            "weight updated: 0.5\n",
            "total error: 1\n",
            "total error: 0\n"
          ]
        }
      ]
    },
    {
      "cell_type": "markdown",
      "source": [
        "Implementation on OR operator:"
      ],
      "metadata": {
        "id": "i9ogLwZBK-bF"
      }
    },
    {
      "cell_type": "code",
      "source": [
        "import numpy as np\n",
        "inputs=[[0,0],[0,1],[1,0],[1,1]]\n",
        "weights=[0.0,0.0]\n",
        "outputs=[0,1,1,1]\n",
        "learning_rate=0.1\n",
        "def act(a):\n",
        "  if a>=1:\n",
        "    return 1\n",
        "  else:\n",
        "    return 0\n",
        "def cal(a):\n",
        "  s=np.dot(a,weights)\n",
        "  return act(s)\n",
        "\n",
        "total_error=1\n",
        "while(total_error !=0):\n",
        "  total_error=0\n",
        "  for i in range(len(inputs)):\n",
        "    predict=cal(inputs[i])\n",
        "    error=outputs[i]-predict\n",
        "    total_error += error\n",
        "    if error>0:\n",
        "      for j in range(len(weights)):\n",
        "        weights[j]=weights[j]+(learning_rate*inputs[i][j]*error)\n",
        "        print(\"weight updated: \"+str(weights[j]))\n",
        "  print(\"total error: \"+str(total_error))"
      ],
      "metadata": {
        "colab": {
          "base_uri": "https://localhost:8080/"
        },
        "id": "7w-kqJOrLCm6",
        "outputId": "1d026bc2-ea7c-435d-ea0f-d0bd335dca36"
      },
      "execution_count": 10,
      "outputs": [
        {
          "output_type": "stream",
          "name": "stdout",
          "text": [
            "weight updated: 0.0\n",
            "weight updated: 0.1\n",
            "weight updated: 0.1\n",
            "weight updated: 0.1\n",
            "weight updated: 0.2\n",
            "weight updated: 0.2\n",
            "total error: 3\n",
            "weight updated: 0.2\n",
            "weight updated: 0.30000000000000004\n",
            "weight updated: 0.30000000000000004\n",
            "weight updated: 0.30000000000000004\n",
            "weight updated: 0.4\n",
            "weight updated: 0.4\n",
            "total error: 3\n",
            "weight updated: 0.4\n",
            "weight updated: 0.5\n",
            "weight updated: 0.5\n",
            "weight updated: 0.5\n",
            "total error: 2\n",
            "weight updated: 0.5\n",
            "weight updated: 0.6\n",
            "weight updated: 0.6\n",
            "weight updated: 0.6\n",
            "total error: 2\n",
            "weight updated: 0.6\n",
            "weight updated: 0.7\n",
            "weight updated: 0.7\n",
            "weight updated: 0.7\n",
            "total error: 2\n",
            "weight updated: 0.7\n",
            "weight updated: 0.7999999999999999\n",
            "weight updated: 0.7999999999999999\n",
            "weight updated: 0.7999999999999999\n",
            "total error: 2\n",
            "weight updated: 0.7999999999999999\n",
            "weight updated: 0.8999999999999999\n",
            "weight updated: 0.8999999999999999\n",
            "weight updated: 0.8999999999999999\n",
            "total error: 2\n",
            "weight updated: 0.8999999999999999\n",
            "weight updated: 0.9999999999999999\n",
            "weight updated: 0.9999999999999999\n",
            "weight updated: 0.9999999999999999\n",
            "total error: 2\n",
            "weight updated: 0.9999999999999999\n",
            "weight updated: 1.0999999999999999\n",
            "weight updated: 1.0999999999999999\n",
            "weight updated: 1.0999999999999999\n",
            "total error: 2\n",
            "total error: 0\n"
          ]
        }
      ]
    }
  ]
}