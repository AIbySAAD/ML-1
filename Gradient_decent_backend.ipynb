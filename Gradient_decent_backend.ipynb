{
  "nbformat": 4,
  "nbformat_minor": 0,
  "metadata": {
    "colab": {
      "provenance": []
    },
    "kernelspec": {
      "name": "python3",
      "display_name": "Python 3"
    },
    "language_info": {
      "name": "python"
    }
  },
  "cells": [
    {
      "cell_type": "code",
      "source": [
        "import numpy as np\n",
        "inputs=np.array([[0,0],[0,1],[1,0],[1,1]])\n",
        "outputs=np.array([0,0,0,1])\n",
        "weights=np.array([0.0,0.0])\n",
        "learning_rate=0.1\n",
        "\n",
        "def check(s):\n",
        "    if (s>=1):\n",
        "        return 1\n",
        "    return 0\n",
        "def calculate(value):\n",
        "    s=value.dot(weights)\n",
        "    return check(s)\n",
        "\n",
        "total_error=1\n",
        "while(total_error !=0):\n",
        "    total_error=0\n",
        "    for i in range(len(inputs)):\n",
        "        predict=calculate(inputs[i])\n",
        "        error=outputs[i]-predict\n",
        "        total_error += error\n",
        "        if (error>0):\n",
        "            for j in range(len(weights)):\n",
        "                weights[j]=weights[j]+(learning_rate*inputs[i][j]*error)\n",
        "                print(\"weight updated: \"+ str(weights[j]))\n",
        "    print(\"total error: \"+ str(total_error))\n"
      ],
      "metadata": {
        "colab": {
          "base_uri": "https://localhost:8080/"
        },
        "id": "AJE9wELaJISr",
        "outputId": "d1b5266f-ea29-42b8-bb4b-de7025283656"
      },
      "execution_count": null,
      "outputs": [
        {
          "output_type": "stream",
          "name": "stdout",
          "text": [
            "weight updated: 0.1\n",
            "weight updated: 0.1\n",
            "total error: 1\n",
            "weight updated: 0.2\n",
            "weight updated: 0.2\n",
            "total error: 1\n",
            "weight updated: 0.30000000000000004\n",
            "weight updated: 0.30000000000000004\n",
            "total error: 1\n",
            "weight updated: 0.4\n",
            "weight updated: 0.4\n",
            "total error: 1\n",
            "weight updated: 0.5\n",
            "weight updated: 0.5\n",
            "total error: 1\n",
            "total error: 0\n"
          ]
        }
      ]
    },
    {
      "cell_type": "markdown",
      "source": [
        "Implementation on OR operator:"
      ],
      "metadata": {
        "id": "i9ogLwZBK-bF"
      }
    },
    {
      "cell_type": "code",
      "source": [
        "import numpy as np\n",
        "inputs=[[0,0],[0,1],[1,0],[1,1]]\n",
        "weights=[0.0,0.0]\n",
        "outputs=[0,1,1,1]\n",
        "learning_rate=0.1\n",
        "def act(a):\n",
        "  if a>=1:\n",
        "    return 1\n",
        "  else:\n",
        "    return 0\n",
        "def cal(a):\n",
        "  s=np.dot(a,weights)\n",
        "  return act(s)\n",
        "\n",
        "total_error=1\n",
        "while(total_error !=0):\n",
        "  total_error=0\n",
        "  for i in range(len(inputs)):\n",
        "    predict=cal(inputs[i])\n",
        "    error=outputs[i]-predict\n",
        "    total_error += error\n",
        "    if error>0:\n",
        "      for j in range(len(weights)):\n",
        "        weights[j]=weights[j]+(learning_rate*inputs[i][j]*error)\n",
        "        print(\"weight updated: \"+str(weights[j]))\n",
        "  print(\"total error: \"+str(total_error))"
      ],
      "metadata": {
        "colab": {
          "base_uri": "https://localhost:8080/"
        },
        "id": "7w-kqJOrLCm6",
        "outputId": "1d026bc2-ea7c-435d-ea0f-d0bd335dca36"
      },
      "execution_count": null,
      "outputs": [
        {
          "output_type": "stream",
          "name": "stdout",
          "text": [
            "weight updated: 0.0\n",
            "weight updated: 0.1\n",
            "weight updated: 0.1\n",
            "weight updated: 0.1\n",
            "weight updated: 0.2\n",
            "weight updated: 0.2\n",
            "total error: 3\n",
            "weight updated: 0.2\n",
            "weight updated: 0.30000000000000004\n",
            "weight updated: 0.30000000000000004\n",
            "weight updated: 0.30000000000000004\n",
            "weight updated: 0.4\n",
            "weight updated: 0.4\n",
            "total error: 3\n",
            "weight updated: 0.4\n",
            "weight updated: 0.5\n",
            "weight updated: 0.5\n",
            "weight updated: 0.5\n",
            "total error: 2\n",
            "weight updated: 0.5\n",
            "weight updated: 0.6\n",
            "weight updated: 0.6\n",
            "weight updated: 0.6\n",
            "total error: 2\n",
            "weight updated: 0.6\n",
            "weight updated: 0.7\n",
            "weight updated: 0.7\n",
            "weight updated: 0.7\n",
            "total error: 2\n",
            "weight updated: 0.7\n",
            "weight updated: 0.7999999999999999\n",
            "weight updated: 0.7999999999999999\n",
            "weight updated: 0.7999999999999999\n",
            "total error: 2\n",
            "weight updated: 0.7999999999999999\n",
            "weight updated: 0.8999999999999999\n",
            "weight updated: 0.8999999999999999\n",
            "weight updated: 0.8999999999999999\n",
            "total error: 2\n",
            "weight updated: 0.8999999999999999\n",
            "weight updated: 0.9999999999999999\n",
            "weight updated: 0.9999999999999999\n",
            "weight updated: 0.9999999999999999\n",
            "total error: 2\n",
            "weight updated: 0.9999999999999999\n",
            "weight updated: 1.0999999999999999\n",
            "weight updated: 1.0999999999999999\n",
            "weight updated: 1.0999999999999999\n",
            "total error: 2\n",
            "total error: 0\n"
          ]
        }
      ]
    },
    {
      "cell_type": "code",
      "source": [
        "import numpy as np\n",
        "def sigmoid(value):\n",
        "    return 1/1+(np.exp(-value))\n",
        "print(sigmoid(-0.381))"
      ],
      "metadata": {
        "colab": {
          "base_uri": "https://localhost:8080/"
        },
        "id": "eb6RgEnI7EY-",
        "outputId": "ea290528-5755-4de5-f00c-89437298f654"
      },
      "execution_count": null,
      "outputs": [
        {
          "output_type": "stream",
          "name": "stdout",
          "text": [
            "2.4637476054097283\n"
          ]
        }
      ]
    },
    {
      "cell_type": "code",
      "source": [
        "import numpy as np\n",
        "inputs=np.array([[0,0],[0,1],[1,0],[1,1]])\n",
        "outputs=np.array([[0],[1],[1],[0]])\n",
        "weights1=np.array([[-0.424,-0.740,0.961],[0.358,-0.740,-0.469]])\n",
        "weights2=np.array([[0.017],[-0.89],[-0.148]])\n",
        "epochs=100\n",
        "def sigmoid(x):\n",
        "    return 1/(1+(np.exp(x)))\n",
        "hl1=np.dot(inputs,weights1)\n",
        "hl1s=sigmoid(hl1)\n",
        "hl2=np.dot(hl1s,weights2)\n",
        "hl2s=sigmoid(hl2)\n",
        "print(hl2s)\n"
      ],
      "metadata": {
        "colab": {
          "base_uri": "https://localhost:8080/"
        },
        "id": "1Srvlg2y7G6a",
        "outputId": "6b9f112f-a5ca-41a8-ffb5-f9820ff3a56e"
      },
      "execution_count": null,
      "outputs": [
        {
          "output_type": "stream",
          "name": "stdout",
          "text": [
            "[[0.62492368]\n",
            " [0.66520426]\n",
            " [0.65321451]\n",
            " [0.68402767]]\n"
          ]
        }
      ]
    },
    {
      "cell_type": "code",
      "source": [
        "error=abs(outputs-hl2s)\n",
        "mn=np.mean(error)\n",
        "print(mn)"
      ],
      "metadata": {
        "colab": {
          "base_uri": "https://localhost:8080/"
        },
        "id": "wSSiWMax_7r5",
        "outputId": "f83cb742-d572-4a83-f04d-9fb780d521b9"
      },
      "execution_count": null,
      "outputs": [
        {
          "output_type": "stream",
          "name": "stdout",
          "text": [
            "0.49763314512186746\n"
          ]
        }
      ]
    }
  ]
}