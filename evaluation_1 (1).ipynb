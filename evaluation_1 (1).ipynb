{
  "cells": [
    {
      "cell_type": "markdown",
      "id": "3443b3de",
      "metadata": {
        "id": "3443b3de"
      },
      "source": [
        "### Question 1\n",
        "Given a list of integers nums and an integer target, return <i>indices of the two numbers such that they add up to target<i>. <br>\n",
        "\n",
        "Example 1:<br>\n",
        "\n",
        "Input: nums = [2,7,11,15], target = 9<br>\n",
        "Output: [0,1]"
      ]
    },
    {
      "cell_type": "code",
      "execution_count": 6,
      "id": "ff1e5aa2",
      "metadata": {
        "id": "ff1e5aa2"
      },
      "outputs": [],
      "source": [
        "a = [2,7,11,15]\n",
        "def nums(nums):\n",
        "  for i in nums:\n",
        "    if i+(i+1)==9:\n",
        "      print(i,i+1)\n",
        "nums(a)"
      ]
    },
    {
      "cell_type": "markdown",
      "id": "e473f396",
      "metadata": {
        "id": "e473f396"
      },
      "source": [
        "### Question 2\n",
        "Given an integer x,<i> return true if x is a <br>\n",
        "palindrome</i><br>\n",
        ", and false otherwise. <br>\n",
        "Example 1:<br>\n",
        "\n",
        "Input: x = 121<br>\n",
        "Output: true<br>\n"
      ]
    },
    {
      "cell_type": "code",
      "execution_count": 12,
      "id": "83e210c0",
      "metadata": {
        "colab": {
          "base_uri": "https://localhost:8080/"
        },
        "id": "83e210c0",
        "outputId": "4895f1f2-3d06-467e-e18b-98c221184e7d"
      },
      "outputs": [
        {
          "output_type": "stream",
          "name": "stdout",
          "text": [
            "true\n"
          ]
        }
      ],
      "source": [
        "x=str(121)\n",
        "def palindrome(i):\n",
        "  a=i[::-1]\n",
        "  if i==a:\n",
        "    print(\"true\")\n",
        "  else:\n",
        "    print(\"false\")\n",
        "palindrome(x)"
      ]
    },
    {
      "cell_type": "markdown",
      "id": "a2f1a21b",
      "metadata": {
        "id": "a2f1a21b"
      },
      "source": [
        "### Question 3\n",
        "Given two strings needle and haystack, return the index of the first occurrence of needle in haystack, or -1 if needle is not part of haystack.<br>\n",
        "\n",
        "Example 1:<br>\n",
        "Input: haystack = \"sadbutsad\", needle = \"sad\" <br>\n",
        "Output: 0<br>\n",
        "Explanation: \"sad\" occurs at index 0 and 6.<br>\n",
        "The first occurrence is at index 0, so we return 0.<br>\n",
        "\n",
        "Example 2:<br>\n",
        "Input: haystack = \"apple\", needle = \"appo\"<br>\n",
        "Output: -1<br>\n",
        "Explanation: \"leeto\" did not occur in \"leetcode\", so we return -1.<br>"
      ]
    },
    {
      "cell_type": "code",
      "execution_count": 29,
      "id": "d4aeb342",
      "metadata": {
        "colab": {
          "base_uri": "https://localhost:8080/",
          "height": 212
        },
        "id": "d4aeb342",
        "outputId": "e5f89488-316e-41c0-df77-2e51e2e2c6ba"
      },
      "outputs": [
        {
          "output_type": "error",
          "ename": "NameError",
          "evalue": "ignored",
          "traceback": [
            "\u001b[0;31m---------------------------------------------------------------------------\u001b[0m",
            "\u001b[0;31mNameError\u001b[0m                                 Traceback (most recent call last)",
            "\u001b[0;32m<ipython-input-29-12fb4f8838b1>\u001b[0m in \u001b[0;36m<cell line: 3>\u001b[0;34m()\u001b[0m\n\u001b[1;32m      2\u001b[0m \u001b[0mneedle\u001b[0m\u001b[0;34m=\u001b[0m\u001b[0;34m\"sad\"\u001b[0m\u001b[0;34m\u001b[0m\u001b[0;34m\u001b[0m\u001b[0m\n\u001b[1;32m      3\u001b[0m \u001b[0;32mif\u001b[0m \u001b[0mneedle\u001b[0m \u001b[0;32min\u001b[0m \u001b[0mhaystack\u001b[0m\u001b[0;34m:\u001b[0m\u001b[0;34m\u001b[0m\u001b[0;34m\u001b[0m\u001b[0m\n\u001b[0;32m----> 4\u001b[0;31m   \u001b[0mprint\u001b[0m\u001b[0;34m(\u001b[0m\u001b[0mhaystack\u001b[0m\u001b[0;34m[\u001b[0m\u001b[0msad\u001b[0m\u001b[0;34m]\u001b[0m\u001b[0;34m)\u001b[0m\u001b[0;34m\u001b[0m\u001b[0;34m\u001b[0m\u001b[0m\n\u001b[0m",
            "\u001b[0;31mNameError\u001b[0m: name 'sad' is not defined"
          ]
        }
      ],
      "source": [
        "haystack=\"sadbutsad\"\n",
        "needle=\"sad\"\n",
        "if needle in haystack:\n",
        "  print(haystack[])"
      ]
    },
    {
      "cell_type": "markdown",
      "id": "916e39e1",
      "metadata": {
        "id": "916e39e1"
      },
      "source": [
        "### Question 4\n",
        "\n",
        "Enter a number and have the program generate the Fibonacci sequence to that number or to the Nth number."
      ]
    },
    {
      "cell_type": "code",
      "execution_count": null,
      "id": "2bc0707f",
      "metadata": {
        "id": "2bc0707f"
      },
      "outputs": [],
      "source": []
    },
    {
      "cell_type": "markdown",
      "id": "1f0c9bfa",
      "metadata": {
        "id": "1f0c9bfa"
      },
      "source": [
        "### Question 5\n",
        "Given two integers, return True if the sum of the integers is 20 or if one of the integers is 20. If not, return False"
      ]
    },
    {
      "cell_type": "code",
      "execution_count": 13,
      "id": "4030ce7f",
      "metadata": {
        "colab": {
          "base_uri": "https://localhost:8080/"
        },
        "id": "4030ce7f",
        "outputId": "0a1de97d-9c3a-41df-e71d-4d8ff50e7d5c"
      },
      "outputs": [
        {
          "output_type": "stream",
          "name": "stdout",
          "text": [
            "10\n",
            "10\n",
            "true\n"
          ]
        }
      ],
      "source": [
        "x=int(input())\n",
        "y=int(input())\n",
        "if x+y==20 or x==20 or y==20:\n",
        "  print(\"true\")\n",
        "else:\n",
        "  print(\"false\")"
      ]
    },
    {
      "cell_type": "markdown",
      "id": "947855f9",
      "metadata": {
        "id": "947855f9"
      },
      "source": [
        "### Question 6\n",
        "\n",
        "Convert Celsius to Fahrenheit (Use list comprehension)<br>\n",
        "celsius = [0,10,20.1,34.5]"
      ]
    },
    {
      "cell_type": "code",
      "execution_count": 16,
      "id": "ee590475",
      "metadata": {
        "colab": {
          "base_uri": "https://localhost:8080/",
          "height": 142
        },
        "id": "ee590475",
        "outputId": "50c6d5dd-8afc-420f-9054-e13b46098413"
      },
      "outputs": [
        {
          "output_type": "error",
          "ename": "SyntaxError",
          "evalue": "ignored",
          "traceback": [
            "\u001b[0;36m  File \u001b[0;32m\"<ipython-input-16-9ab9b8f00440>\"\u001b[0;36m, line \u001b[0;32m2\u001b[0m\n\u001b[0;31m    x=(a for i in celsius celsius*((9/5)+32))\u001b[0m\n\u001b[0m                          ^\u001b[0m\n\u001b[0;31mSyntaxError\u001b[0m\u001b[0;31m:\u001b[0m invalid syntax\n"
          ]
        }
      ],
      "source": [
        "celsius=[0,10,20.1,34.5]\n",
        "x=(a for i in celsius celsius*((9/5)+32))\n",
        "x"
      ]
    },
    {
      "cell_type": "markdown",
      "id": "26d6af81",
      "metadata": {
        "id": "26d6af81"
      },
      "source": [
        "### Question 7\n",
        "\n",
        "Create a simple program to manage a stack? The stack should have a maximum limit of 10 elements. Include two functions: one for adding (pushing) an element to the stack and another for removing (popping) an element from the stack. If the stack is full and someone tries to add an element, return a message saying the stack is full. If the stack is empty and someone tries to remove an element, return a message saying the stack is empty and no element can be removed.<br>\n",
        "\n",
        "<b>Note:</b> Stack follows FIFO (first in first out) rule"
      ]
    },
    {
      "cell_type": "code",
      "execution_count": 26,
      "id": "da16794b",
      "metadata": {
        "colab": {
          "base_uri": "https://localhost:8080/"
        },
        "id": "da16794b",
        "outputId": "b2884252-d1d8-40e7-ed03-97f00da8ccc5"
      },
      "outputs": [
        {
          "output_type": "stream",
          "name": "stdout",
          "text": [
            "list is full\n",
            "list is full\n",
            "list is full\n",
            "list is full\n",
            "list is full\n",
            "list is full\n",
            "list is full\n",
            "list is full\n",
            "list is full\n",
            "list is full\n",
            "list is full\n",
            "10\n",
            "list is empty\n",
            "list is empty\n",
            "list is empty\n",
            "list is empty\n",
            "list is empty\n",
            "list is empty\n",
            "list is empty\n",
            "list is empty\n",
            "list is empty\n",
            "list is empty\n",
            "list is empty\n"
          ]
        }
      ],
      "source": [
        "import numpy as np\n",
        "x=np.array(10)\n",
        "def adding(a):\n",
        "  try:\n",
        "    x.push(a)\n",
        "  except:\n",
        "    print(\"list is full\")\n",
        "def remv():\n",
        "  try:\n",
        "    x.pop()\n",
        "  except:\n",
        "    print(\"list is empty\")\n",
        "for i in range(11):\n",
        "  adding(3)\n",
        "print(x)\n",
        "for i in range(11):\n",
        "  remv()"
      ]
    },
    {
      "cell_type": "markdown",
      "id": "c34f3ddd",
      "metadata": {
        "id": "c34f3ddd"
      },
      "source": [
        "### Question 8\n",
        "\n",
        "Create a function which will take list as an input argument! If a number can be divided evenly by 3, print \"fizz.\" If it can be divided evenly by 5, print \"buzz.\" And if it can be divided evenly by both 3 and 5, print \"fizzbuzz.\"<br>\n",
        "<b>Note:</b>Use max two conditional statements."
      ]
    },
    {
      "cell_type": "code",
      "execution_count": 20,
      "id": "483439fb",
      "metadata": {
        "colab": {
          "base_uri": "https://localhost:8080/"
        },
        "id": "483439fb",
        "outputId": "f9915e2d-02e2-4785-8594-e7c1bed7c4ca"
      },
      "outputs": [
        {
          "output_type": "stream",
          "name": "stdout",
          "text": [
            "fizz\n",
            "fizzbuzz\n",
            "fizz\n",
            "buzz\n"
          ]
        }
      ],
      "source": [
        "x=[1,2,5,7,8,15]\n",
        "def func(x):\n",
        "  for i in x:\n",
        "    if i%3==0 and i%5==0:\n",
        "      print(\"fizzbuzz\")\n",
        "    if i%5==0:\n",
        "      print(\"fizz\")\n",
        "    if i%3==0:\n",
        "      print(\"buzz\")\n",
        "func(x)"
      ]
    }
  ],
  "metadata": {
    "kernelspec": {
      "display_name": "Python 3 (ipykernel)",
      "language": "python",
      "name": "python3"
    },
    "language_info": {
      "codemirror_mode": {
        "name": "ipython",
        "version": 3
      },
      "file_extension": ".py",
      "mimetype": "text/x-python",
      "name": "python",
      "nbconvert_exporter": "python",
      "pygments_lexer": "ipython3",
      "version": "3.10.9"
    },
    "colab": {
      "provenance": []
    }
  },
  "nbformat": 4,
  "nbformat_minor": 5
}