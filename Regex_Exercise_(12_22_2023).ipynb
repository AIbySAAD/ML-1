{
  "cells": [
    {
      "cell_type": "markdown",
      "id": "1940c91d",
      "metadata": {
        "id": "1940c91d"
      },
      "source": [
        "### Questions 1\n",
        "\n",
        "Write a Python program to check that a string contains only a certain set of characters (in this case a-z, A-Z and 0-9)."
      ]
    },
    {
      "cell_type": "code",
      "execution_count": 10,
      "id": "fb788c99",
      "metadata": {
        "colab": {
          "base_uri": "https://localhost:8080/"
        },
        "id": "fb788c99",
        "outputId": "9e519ead-f7eb-4664-9f59-8120fa12a50b"
      },
      "outputs": [
        {
          "output_type": "execute_result",
          "data": {
            "text/plain": [
              "['T', 'M']"
            ]
          },
          "metadata": {},
          "execution_count": 10
        }
      ],
      "source": [
        "import re\n",
        "strr='hello! This is Me 3456'\n",
        "def zero_to_nine(x):\n",
        "  return re.findall('[0-9]',x)\n",
        "zero_to_nine(strr)\n",
        "def a_to_z(x):\n",
        "  return re.findall('[a-z]',x)\n",
        "a_to_z(strr)\n",
        "def A_to_Z(x):\n",
        "  return re.findall('[A-Z]',x)\n",
        "A_to_Z(strr)"
      ]
    },
    {
      "cell_type": "markdown",
      "id": "36b773c3",
      "metadata": {
        "id": "36b773c3"
      },
      "source": [
        "### Question 2\n",
        "\n",
        "Write a Python program that matches a string that has an a followed by zero or more b's."
      ]
    },
    {
      "cell_type": "code",
      "execution_count": 49,
      "id": "a552493a",
      "metadata": {
        "colab": {
          "base_uri": "https://localhost:8080/"
        },
        "id": "a552493a",
        "outputId": "01aab575-ed25-4077-92ea-151e79b21e70"
      },
      "outputs": [
        {
          "output_type": "execute_result",
          "data": {
            "text/plain": [
              "['a', 'ab']"
            ]
          },
          "metadata": {},
          "execution_count": 49
        }
      ],
      "source": [
        "strr='hellao! This is Me abc 3456'\n",
        "def zero_more(x):\n",
        "  return re.findall('ab*',x)\n",
        "zero_more(strr)"
      ]
    },
    {
      "cell_type": "markdown",
      "id": "673d61a9",
      "metadata": {
        "id": "673d61a9"
      },
      "source": [
        "### Question 3\n",
        "\n",
        "Write a Python program that matches a string that has an a followed by one or more b's."
      ]
    },
    {
      "cell_type": "code",
      "execution_count": 47,
      "id": "7e0fb77a",
      "metadata": {
        "colab": {
          "base_uri": "https://localhost:8080/"
        },
        "id": "7e0fb77a",
        "outputId": "b6cb2288-a05b-4070-c91b-1bb2ac7e72c1"
      },
      "outputs": [
        {
          "output_type": "execute_result",
          "data": {
            "text/plain": [
              "['ab']"
            ]
          },
          "metadata": {},
          "execution_count": 47
        }
      ],
      "source": [
        "strr='hellbo! This is Me ab 3456'\n",
        "def zero_more(x):\n",
        "  return re.findall('ab+',x)\n",
        "zero_more(strr)"
      ]
    },
    {
      "cell_type": "markdown",
      "id": "8494f5a8",
      "metadata": {
        "id": "8494f5a8"
      },
      "source": [
        "### Question 4\n",
        "Write a Python program that matches a string that has an a followed by zero or one 'b'."
      ]
    },
    {
      "cell_type": "code",
      "execution_count": 48,
      "id": "df4a9688",
      "metadata": {
        "colab": {
          "base_uri": "https://localhost:8080/"
        },
        "id": "df4a9688",
        "outputId": "f38a4405-8202-4ef6-fdd7-da59c472cbf9"
      },
      "outputs": [
        {
          "output_type": "execute_result",
          "data": {
            "text/plain": [
              "['ab']"
            ]
          },
          "metadata": {},
          "execution_count": 48
        }
      ],
      "source": [
        "strr='hello! Thibs is Me abbbbb 3456'\n",
        "def zero_more(x):\n",
        "  return re.findall('ab?',x)\n",
        "zero_more(strr)"
      ]
    },
    {
      "cell_type": "markdown",
      "id": "cb6b8dc8",
      "metadata": {
        "id": "cb6b8dc8"
      },
      "source": [
        "### Question 5\n",
        "Write a Python program to find sequences of lowercase letters joined by an underscore."
      ]
    },
    {
      "cell_type": "code",
      "execution_count": 52,
      "id": "fcf95464",
      "metadata": {
        "colab": {
          "base_uri": "https://localhost:8080/"
        },
        "id": "fcf95464",
        "outputId": "99d282b6-0db2-4e51-a12d-6bb5e74e23f3"
      },
      "outputs": [
        {
          "output_type": "execute_result",
          "data": {
            "text/plain": [
              "[]"
            ]
          },
          "metadata": {},
          "execution_count": 52
        }
      ],
      "source": [
        "strr='hello! Thibs is me__me abbbbb 3456'\n",
        "def zero_more(x):\n",
        "  return re.findall(r'[a-z]+ _ [a-z]+',x)\n",
        "zero_more(strr)"
      ]
    },
    {
      "cell_type": "markdown",
      "id": "3f07cde8",
      "metadata": {
        "id": "3f07cde8"
      },
      "source": [
        "### Question 6\n",
        "Write a Python program that matches a word at the beginning of a string."
      ]
    },
    {
      "cell_type": "code",
      "execution_count": null,
      "id": "f7b852af",
      "metadata": {
        "id": "f7b852af"
      },
      "outputs": [],
      "source": []
    },
    {
      "cell_type": "markdown",
      "id": "170c8d78",
      "metadata": {
        "id": "170c8d78"
      },
      "source": [
        "### Question 7\n",
        "Write a Python program that matches a word containing 'z'."
      ]
    },
    {
      "cell_type": "code",
      "execution_count": null,
      "id": "c5c796b8",
      "metadata": {
        "id": "c5c796b8"
      },
      "outputs": [],
      "source": []
    },
    {
      "cell_type": "markdown",
      "id": "c2d89556",
      "metadata": {
        "id": "c2d89556"
      },
      "source": [
        "### Question 8\n",
        "Write a Python program to match a string that contains only upper and lowercase letters, numbers, and underscores."
      ]
    },
    {
      "cell_type": "code",
      "execution_count": null,
      "id": "a1958601",
      "metadata": {
        "id": "a1958601"
      },
      "outputs": [],
      "source": []
    },
    {
      "cell_type": "markdown",
      "id": "c476a75a",
      "metadata": {
        "id": "c476a75a"
      },
      "source": [
        "### Question 9\n",
        "Write a Python program to search for literal strings within a string.<br>\n",
        "Sample text : 'The quick brown fox jumps over the lazy dog.'<br>\n",
        "Searched words : 'fox', 'dog', 'horse'<br>"
      ]
    },
    {
      "cell_type": "code",
      "execution_count": null,
      "id": "62fdfa6c",
      "metadata": {
        "id": "62fdfa6c"
      },
      "outputs": [],
      "source": []
    },
    {
      "cell_type": "markdown",
      "id": "5da7e932",
      "metadata": {
        "id": "5da7e932"
      },
      "source": [
        "### Question 10\n",
        "Write a Python program to search for a literal string in a string and also find the location within the original string where the pattern occurs.<br>\n",
        "\n",
        "Sample text : 'The quick brown fox jumps over the lazy dog.'<br>\n",
        "Searched words : 'fox'<br>\n",
        "\n"
      ]
    },
    {
      "cell_type": "code",
      "execution_count": null,
      "id": "a540ad56",
      "metadata": {
        "id": "a540ad56"
      },
      "outputs": [],
      "source": []
    },
    {
      "cell_type": "markdown",
      "id": "3c788609",
      "metadata": {
        "id": "3c788609"
      },
      "source": [
        "### Question 11\n",
        "Write a Python program that checks whether a word starts and ends with a vowel in a given string. Return true if a word matches the condition; otherwise, return false.<br>\n",
        "Sample Data:<br>\n",
        "(\"Red Orange White\") -> True<br>\n",
        "(\"Red White Black\") -> False<br>\n",
        "(\"abcd dkise eosksu\") -> True<br>"
      ]
    },
    {
      "cell_type": "code",
      "execution_count": null,
      "id": "6a5c8575",
      "metadata": {
        "id": "6a5c8575"
      },
      "outputs": [],
      "source": []
    },
    {
      "cell_type": "markdown",
      "id": "9bc8c2bb",
      "metadata": {
        "id": "9bc8c2bb"
      },
      "source": [
        "### Question 12\n",
        "Write a Python program that takes a string with some words. For two consecutive words in the said string, check whether the first word ends with a vowel and the next word begins with a vowel. If the program meets the condition, return true, otherwise false. Only one space is allowed between the words.<br>\n",
        "Sample Data:<br>\n",
        "(\"These exercises can be used for practice.\") -> True<br>\n",
        "(\"Following exercises should be removed for practice.\") -> False<br>\n",
        "(\"I use these stories in my classroom.\") -> True<br>"
      ]
    },
    {
      "cell_type": "code",
      "execution_count": null,
      "id": "3b5f1d7b",
      "metadata": {
        "id": "3b5f1d7b"
      },
      "outputs": [],
      "source": []
    }
  ],
  "metadata": {
    "kernelspec": {
      "display_name": "Python 3 (ipykernel)",
      "language": "python",
      "name": "python3"
    },
    "language_info": {
      "codemirror_mode": {
        "name": "ipython",
        "version": 3
      },
      "file_extension": ".py",
      "mimetype": "text/x-python",
      "name": "python",
      "nbconvert_exporter": "python",
      "pygments_lexer": "ipython3",
      "version": "3.10.9"
    },
    "colab": {
      "provenance": []
    }
  },
  "nbformat": 4,
  "nbformat_minor": 5
}