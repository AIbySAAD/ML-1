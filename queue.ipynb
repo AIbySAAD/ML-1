{
  "nbformat": 4,
  "nbformat_minor": 0,
  "metadata": {
    "colab": {
      "provenance": []
    },
    "kernelspec": {
      "name": "python3",
      "display_name": "Python 3"
    },
    "language_info": {
      "name": "python"
    }
  },
  "cells": [
    {
      "cell_type": "code",
      "execution_count": 26,
      "metadata": {
        "colab": {
          "base_uri": "https://localhost:8080/"
        },
        "id": "bg-6zGkLQjg3",
        "outputId": "37a4a448-8dbb-4615-ea82-e85c702da510"
      },
      "outputs": [
        {
          "output_type": "stream",
          "name": "stdout",
          "text": [
            "what you want to do with queue? 1: push , 2: pop , 3: exit3\n",
            "[]\n"
          ]
        }
      ],
      "source": [
        "import numpy as np\n",
        "def queue():\n",
        "  arr=[]\n",
        "  index=0\n",
        "  for i in range(12):\n",
        "\n",
        "    inp=int(input(\"what you want to do with queue? 1: push , 2: pop , 3: exit\"))\n",
        "    if inp==1:\n",
        "      if index==10:\n",
        "        print(\"stack is full\")\n",
        "      else:\n",
        "        arr.append(i+1)\n",
        "        index +=1\n",
        "        print(\"index: \",index)\n",
        "    if inp==2:\n",
        "      if index==0:\n",
        "        print(\"stack is empty\")\n",
        "      else:\n",
        "        arr.pop(0)\n",
        "        index -=1\n",
        "    print(arr)\n",
        "    if inp==3:\n",
        "      break\n",
        "queue()"
      ]
    }
  ]
}