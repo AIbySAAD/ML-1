{
  "cells": [
    {
      "cell_type": "markdown",
      "id": "7ec98f23",
      "metadata": {
        "id": "7ec98f23"
      },
      "source": [
        "### Questions 1\n",
        "\n",
        "Create a matrix of 5x5 with random integers, after that swap its first and last rows."
      ]
    },
    {
      "cell_type": "code",
      "execution_count": 17,
      "id": "fbab7daa",
      "metadata": {
        "colab": {
          "base_uri": "https://localhost:8080/"
        },
        "id": "fbab7daa",
        "outputId": "d558a67d-83b0-430a-de91-ca7e594f289a"
      },
      "outputs": [
        {
          "output_type": "stream",
          "name": "stdout",
          "text": [
            "[[5 6 8 2 4]\n",
            " [5 3 8 4 4]\n",
            " [4 4 7 4 2]\n",
            " [9 2 5 6 4]\n",
            " [3 2 3 8 6]]\n"
          ]
        },
        {
          "output_type": "execute_result",
          "data": {
            "text/plain": [
              "array([[3, 2, 3, 8, 6],\n",
              "       [5, 3, 8, 4, 4],\n",
              "       [4, 4, 7, 4, 2],\n",
              "       [9, 2, 5, 6, 4],\n",
              "       [5, 6, 8, 2, 4]])"
            ]
          },
          "metadata": {},
          "execution_count": 17
        }
      ],
      "source": [
        "import numpy as np\n",
        "a=np.random.randint(1,10,(5,5))\n",
        "print(a)\n",
        "a[[0,4]]=a[[4,0]]\n",
        "a"
      ]
    },
    {
      "cell_type": "code",
      "source": [
        "a=3\n",
        "b=4\n",
        "a,b=b,a\n",
        "print(a,b)"
      ],
      "metadata": {
        "colab": {
          "base_uri": "https://localhost:8080/"
        },
        "id": "VLacuOo4PP4i",
        "outputId": "132e7652-773c-4184-ac83-048265b2fda2"
      },
      "id": "VLacuOo4PP4i",
      "execution_count": 7,
      "outputs": [
        {
          "output_type": "stream",
          "name": "stdout",
          "text": [
            "4 3\n"
          ]
        }
      ]
    },
    {
      "cell_type": "markdown",
      "id": "804d6649",
      "metadata": {
        "id": "804d6649"
      },
      "source": [
        "### Question 2\n",
        "\n",
        "Create a 2D array, remove all rows that contain at least one zero."
      ]
    },
    {
      "cell_type": "code",
      "execution_count": 24,
      "id": "26e7b7e4",
      "metadata": {
        "colab": {
          "base_uri": "https://localhost:8080/",
          "height": 365
        },
        "id": "26e7b7e4",
        "outputId": "4f76d3fd-be1e-46cd-e7d8-1d23e0752851"
      },
      "outputs": [
        {
          "output_type": "stream",
          "name": "stdout",
          "text": [
            "[[3 5 3 7 5]\n",
            " [7 6 4 6 2]\n",
            " [0 0 9 7 9]\n",
            " [5 7 3 0 5]\n",
            " [5 4 8 5 6]] \n",
            "\n"
          ]
        },
        {
          "output_type": "error",
          "ename": "ValueError",
          "evalue": "ignored",
          "traceback": [
            "\u001b[0;31m---------------------------------------------------------------------------\u001b[0m",
            "\u001b[0;31mValueError\u001b[0m                                Traceback (most recent call last)",
            "\u001b[0;32m<ipython-input-24-cae8c939ab39>\u001b[0m in \u001b[0;36m<cell line: 3>\u001b[0;34m()\u001b[0m\n\u001b[1;32m      3\u001b[0m \u001b[0;32mfor\u001b[0m \u001b[0mi\u001b[0m \u001b[0;32min\u001b[0m \u001b[0mrange\u001b[0m\u001b[0;34m(\u001b[0m\u001b[0;36m5\u001b[0m\u001b[0;34m)\u001b[0m\u001b[0;34m:\u001b[0m\u001b[0;34m\u001b[0m\u001b[0;34m\u001b[0m\u001b[0m\n\u001b[1;32m      4\u001b[0m   \u001b[0;32mfor\u001b[0m \u001b[0mj\u001b[0m \u001b[0;32min\u001b[0m \u001b[0ma\u001b[0m\u001b[0;34m:\u001b[0m\u001b[0;34m\u001b[0m\u001b[0;34m\u001b[0m\u001b[0m\n\u001b[0;32m----> 5\u001b[0;31m     \u001b[0;32mif\u001b[0m \u001b[0mj\u001b[0m\u001b[0;34m==\u001b[0m\u001b[0;36m0\u001b[0m\u001b[0;34m:\u001b[0m\u001b[0;34m\u001b[0m\u001b[0;34m\u001b[0m\u001b[0m\n\u001b[0m\u001b[1;32m      6\u001b[0m       \u001b[0ma\u001b[0m\u001b[0;34m.\u001b[0m\u001b[0mremove\u001b[0m\u001b[0;34m(\u001b[0m\u001b[0mi\u001b[0m\u001b[0;34m)\u001b[0m\u001b[0;34m\u001b[0m\u001b[0;34m\u001b[0m\u001b[0m\n\u001b[1;32m      7\u001b[0m \u001b[0mprint\u001b[0m\u001b[0;34m(\u001b[0m\u001b[0ma\u001b[0m\u001b[0;34m)\u001b[0m\u001b[0;34m\u001b[0m\u001b[0;34m\u001b[0m\u001b[0m\n",
            "\u001b[0;31mValueError\u001b[0m: The truth value of an array with more than one element is ambiguous. Use a.any() or a.all()"
          ]
        }
      ],
      "source": [
        "a=np.random.randint(0,10,(5,5))\n",
        "print(a,\"\\n\")\n",
        "for i in range(5):\n",
        "  for j in a:\n",
        "    if j==0:\n",
        "      a.remove(i)\n",
        "print(a)"
      ]
    },
    {
      "cell_type": "markdown",
      "id": "2eaedae6",
      "metadata": {
        "id": "2eaedae6"
      },
      "source": [
        "### Question 3\n",
        "\n",
        "Write a NumPy program to find the real and imaginary parts of an array of complex numbers.<br>\n",
        "Original array [ 1.00000000+0.j 0.70710678+0.70710678j]"
      ]
    },
    {
      "cell_type": "code",
      "execution_count": 25,
      "id": "5e2d4526",
      "metadata": {
        "colab": {
          "base_uri": "https://localhost:8080/"
        },
        "id": "5e2d4526",
        "outputId": "a28c3128-facc-4958-b979-42dafdb85826"
      },
      "outputs": [
        {
          "output_type": "execute_result",
          "data": {
            "text/plain": [
              "array([1.        +0.j        , 0.70710678+0.70710678j])"
            ]
          },
          "metadata": {},
          "execution_count": 25
        }
      ],
      "source": [
        "a=np.array([1.00000000+0j , 0.70710678+0.70710678j])\n",
        "real=[]\n",
        "img=[]\n",
        "for i in a:\n",
        "  if i%2 =="
      ]
    },
    {
      "cell_type": "markdown",
      "id": "5d22a191",
      "metadata": {
        "id": "5d22a191"
      },
      "source": [
        "### Question 4\n",
        "\n",
        "Write a NumPy program to remove the duplicate elements of an array.<br>\n",
        "Original array:\n",
        "[10 10 20 20 30 30]\n"
      ]
    },
    {
      "cell_type": "code",
      "execution_count": 26,
      "id": "39a6deaf",
      "metadata": {
        "colab": {
          "base_uri": "https://localhost:8080/"
        },
        "id": "39a6deaf",
        "outputId": "f7a37602-5d28-471b-da34-459c50a1bf19"
      },
      "outputs": [
        {
          "output_type": "execute_result",
          "data": {
            "text/plain": [
              "array([10, 20, 30])"
            ]
          },
          "metadata": {},
          "execution_count": 26
        }
      ],
      "source": [
        "a=np.array([10,10,20,20,30,30])\n",
        "np.unique(a)"
      ]
    },
    {
      "cell_type": "markdown",
      "id": "80f3538a",
      "metadata": {
        "id": "80f3538a"
      },
      "source": [
        "### Question 5\n",
        "\n",
        "Write a NumPy program to create a 3x3x3 array with random values."
      ]
    },
    {
      "cell_type": "code",
      "execution_count": 29,
      "id": "462e67c5",
      "metadata": {
        "colab": {
          "base_uri": "https://localhost:8080/"
        },
        "id": "462e67c5",
        "outputId": "a9ae0840-2350-45f7-9c08-0b42481cd8d5"
      },
      "outputs": [
        {
          "output_type": "execute_result",
          "data": {
            "text/plain": [
              "array([[[0.60496024, 0.08843994, 0.27269125],\n",
              "        [0.66927783, 0.60679335, 0.14418553],\n",
              "        [0.45279154, 0.11028147, 0.30211847]],\n",
              "\n",
              "       [[0.79986256, 0.4107972 , 0.76068498],\n",
              "        [0.5696944 , 0.07411639, 0.80684976],\n",
              "        [0.20932521, 0.21851986, 0.38506409]],\n",
              "\n",
              "       [[0.65067184, 0.34530233, 0.701339  ],\n",
              "        [0.22540205, 0.57221139, 0.41921245],\n",
              "        [0.30396926, 0.20036891, 0.33746712]]])"
            ]
          },
          "metadata": {},
          "execution_count": 29
        }
      ],
      "source": [
        "a=np.random.rand(3,3,3)\n",
        "a"
      ]
    },
    {
      "cell_type": "markdown",
      "id": "abd66406",
      "metadata": {
        "id": "abd66406"
      },
      "source": [
        "### Question 6\n",
        "\n",
        "Write a NumPy program to create a random vector of size 10 and sort it.\n",
        "<b>Note:<\\b> Do not use builtin sorting function"
      ]
    },
    {
      "cell_type": "code",
      "execution_count": null,
      "id": "9282c068",
      "metadata": {
        "id": "9282c068"
      },
      "outputs": [],
      "source": []
    },
    {
      "cell_type": "markdown",
      "id": "e0c1e8bb",
      "metadata": {
        "id": "e0c1e8bb"
      },
      "source": [
        "### Question 7\n",
        "\n",
        "Write a NumPy program to check two random arrays are equal or not."
      ]
    },
    {
      "cell_type": "code",
      "execution_count": 46,
      "id": "e9c571cc",
      "metadata": {
        "colab": {
          "base_uri": "https://localhost:8080/"
        },
        "id": "e9c571cc",
        "outputId": "935a7081-b031-47ee-d7aa-792ff7549df3"
      },
      "outputs": [
        {
          "output_type": "stream",
          "name": "stdout",
          "text": [
            "[1 1]\n",
            "[2 1]\n",
            "False\n"
          ]
        }
      ],
      "source": [
        "a=np.random.randint(0,3,2)\n",
        "print(a)\n",
        "b=np.random.randint(0,3,2)\n",
        "print(b)\n",
        "print(np.allclose(a,b))"
      ]
    },
    {
      "cell_type": "markdown",
      "id": "234405fe",
      "metadata": {
        "id": "234405fe"
      },
      "source": [
        "### Question 8\n",
        "\n",
        "Write a NumPy program to sort a given array of shape 2 along the first axis, last axis and on flattened array.<br>\n",
        "\n",
        "Original array:<br>\n",
        "[[10 40]<br>\n",
        "[30 20]]"
      ]
    },
    {
      "cell_type": "code",
      "execution_count": 61,
      "id": "1b349b99",
      "metadata": {
        "colab": {
          "base_uri": "https://localhost:8080/"
        },
        "id": "1b349b99",
        "outputId": "8067f250-2ef0-4e18-d911-e78f7b297597"
      },
      "outputs": [
        {
          "output_type": "stream",
          "name": "stdout",
          "text": [
            "[[10 20]\n",
            " [30 40]] \n",
            "\n",
            "[[10 40]\n",
            " [20 30]] \n",
            "\n",
            "[10 20 30 40]\n"
          ]
        }
      ],
      "source": [
        "a=np.array([[10 ,40],[30 ,20]])\n",
        "print(np.sort(a,axis=0),\"\\n\")\n",
        "print(np.sort(a,axis=1),\"\\n\")\n",
        "print(np.sort(a,axis=None))"
      ]
    },
    {
      "cell_type": "markdown",
      "id": "2467ff08",
      "metadata": {
        "id": "2467ff08"
      },
      "source": [
        "### Question 9\n",
        "\n",
        "Write a NumPy program to get the floor, ceiling and truncated values of the elements of a numpy array.<br>\n",
        "\n",
        "Original array:<br>\n",
        "[-1.6 -1.5 -0.3 0.1 1.4 1.8 2. ]"
      ]
    },
    {
      "cell_type": "code",
      "execution_count": 65,
      "id": "8fa2a543",
      "metadata": {
        "colab": {
          "base_uri": "https://localhost:8080/"
        },
        "id": "8fa2a543",
        "outputId": "ab2f73ba-0874-418c-e4bd-9b84829f4cbf"
      },
      "outputs": [
        {
          "output_type": "stream",
          "name": "stdout",
          "text": [
            "[-2. -2. -1.  0.  1.  1.  2.]\n",
            "[-1. -1. -0.  1.  2.  2.  2.]\n"
          ]
        }
      ],
      "source": [
        "a=np.array([-1.6 ,-1.5, -0.3 ,0.1 ,1.4 ,1.8, 2. ])\n",
        "print(np.floor(a))\n",
        "print(np.ceil(a))"
      ]
    },
    {
      "cell_type": "markdown",
      "id": "9434026c",
      "metadata": {
        "id": "9434026c"
      },
      "source": [
        "### Questions 10\n",
        "\n",
        "Write a NumPy program to display all the dates for the month of March, 2017"
      ]
    },
    {
      "cell_type": "code",
      "execution_count": 69,
      "id": "67332471",
      "metadata": {
        "colab": {
          "base_uri": "https://localhost:8080/"
        },
        "id": "67332471",
        "outputId": "cde535df-c168-43ab-c9eb-f45e632d8eb3"
      },
      "outputs": [
        {
          "output_type": "stream",
          "name": "stdout",
          "text": [
            "['2017-03-01' '2017-03-02' '2017-03-03' '2017-03-04' '2017-03-05'\n",
            " '2017-03-06' '2017-03-07' '2017-03-08' '2017-03-09' '2017-03-10'\n",
            " '2017-03-11' '2017-03-12' '2017-03-13' '2017-03-14' '2017-03-15'\n",
            " '2017-03-16' '2017-03-17' '2017-03-18' '2017-03-19' '2017-03-20'\n",
            " '2017-03-21' '2017-03-22' '2017-03-23' '2017-03-24' '2017-03-25'\n",
            " '2017-03-26' '2017-03-27' '2017-03-28' '2017-03-29' '2017-03-30'\n",
            " '2017-03-31']\n"
          ]
        }
      ],
      "source": [
        "print(np.arange('2017-03','2017-04',dtype='datetime64[D]'))"
      ]
    },
    {
      "cell_type": "markdown",
      "id": "34eb3ebf",
      "metadata": {
        "id": "34eb3ebf"
      },
      "source": [
        "### Question 11\n",
        "\n",
        "Write a NumPy program to create 24 python datetime.datetime objects (single object for every hour), and then put it in a numpy array."
      ]
    },
    {
      "cell_type": "code",
      "execution_count": 76,
      "id": "705b235f",
      "metadata": {
        "colab": {
          "base_uri": "https://localhost:8080/"
        },
        "id": "705b235f",
        "outputId": "68711644-1685-4910-f336-cd5897b4b42a"
      },
      "outputs": [
        {
          "output_type": "stream",
          "name": "stdout",
          "text": [
            "['2023-06-23T00' '2023-06-23T01' '2023-06-23T02' '2023-06-23T03'\n",
            " '2023-06-23T04' '2023-06-23T05' '2023-06-23T06' '2023-06-23T07'\n",
            " '2023-06-23T08' '2023-06-23T09' '2023-06-23T10' '2023-06-23T11'\n",
            " '2023-06-23T12' '2023-06-23T13' '2023-06-23T14' '2023-06-23T15'\n",
            " '2023-06-23T16' '2023-06-23T17' '2023-06-23T18' '2023-06-23T19'\n",
            " '2023-06-23T20' '2023-06-23T21' '2023-06-23T22' '2023-06-23T23']\n",
            "after adding in array: \n",
            "  [468767. 468767. 468767. 468767. 468767. 468767. 468767. 468767. 468767.\n",
            " 468767. 468767. 468767. 468767. 468767. 468767. 468767. 468767. 468767.\n",
            " 468767. 468767. 468767. 468767. 468767. 468767.]\n"
          ]
        }
      ],
      "source": [
        "arr=np.zeros(24)\n",
        "a=np.arange('2023-06-23','2023-06-24',dtype='datetime64[h]')\n",
        "print(a)\n",
        "for i in range(len(arr)):\n",
        "  for j in a:\n",
        "    arr[i]=j\n",
        "print(\"after adding in array: \\n \",arr)"
      ]
    },
    {
      "cell_type": "markdown",
      "id": "e34c59d5",
      "metadata": {
        "id": "e34c59d5"
      },
      "source": [
        "### Question 12\n",
        "\n",
        "Write a NumPy program to concatenate element-wise two arrays of string.<br>\n",
        "<b>Example <\\b>\n",
        "Array1:<br>\n",
        "['Python' 'PHP']<br>\n",
        "Array2:<br>\n",
        "[' Java' ' C++']<br>\n",
        "new array:<br>\n",
        "['Python Java' 'PHP C++']<br>"
      ]
    },
    {
      "cell_type": "code",
      "execution_count": 85,
      "id": "cd6b480c",
      "metadata": {
        "colab": {
          "base_uri": "https://localhost:8080/"
        },
        "id": "cd6b480c",
        "outputId": "6fb8aac0-dcf4-4205-876e-f426bf4dede4"
      },
      "outputs": [
        {
          "output_type": "stream",
          "name": "stdout",
          "text": [
            "['Python Java' 'PHP C++']\n"
          ]
        }
      ],
      "source": [
        "a=np.array(['Python', 'PHP'])\n",
        "b=np.array([' Java' ,' C++'])\n",
        "print(np.char.add(a,b))"
      ]
    }
  ],
  "metadata": {
    "kernelspec": {
      "display_name": "Python 3 (ipykernel)",
      "language": "python",
      "name": "python3"
    },
    "language_info": {
      "codemirror_mode": {
        "name": "ipython",
        "version": 3
      },
      "file_extension": ".py",
      "mimetype": "text/x-python",
      "name": "python",
      "nbconvert_exporter": "python",
      "pygments_lexer": "ipython3",
      "version": "3.10.9"
    },
    "colab": {
      "provenance": []
    }
  },
  "nbformat": 4,
  "nbformat_minor": 5
}
